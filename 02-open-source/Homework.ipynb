{
 "cells": [
  {
   "cell_type": "markdown",
   "id": "23da9fcf-8efa-49d7-abda-090be69cada0",
   "metadata": {},
   "source": [
    "# Homework 2: Open-Source LLMs for LLM Zoomcamp 2024"
   ]
  },
  {
   "cell_type": "code",
   "execution_count": 3,
   "id": "13aff0e4-b84e-4e32-b3d1-db8a8c63fa04",
   "metadata": {},
   "outputs": [
    {
     "name": "stdout",
     "output_type": "stream",
     "text": [
      "docker: Error response from daemon: driver failed programming external connectivity on endpoint ollama2 (e70e5831aef78ae0c4cc6e0ee827d5e35d50418456e2b7edd0851fe8c1a80835): Bind for 0.0.0.0:11434 failed: port is already allocated.\n"
     ]
    }
   ],
   "source": [
    "# Run Ollama using Docker\n",
    "!docker run -it \\\n",
    "    --rm \\\n",
    "    -v ollama:/root/.ollama \\\n",
    "    -p 11434:11434 \\\n",
    "    --name ollama \\\n",
    "    ollama/ollama"
   ]
  },
  {
   "cell_type": "code",
   "execution_count": null,
   "id": "14d55c41-bec2-4db0-88e4-947b3dfa6984",
   "metadata": {},
   "outputs": [],
   "source": [
    "# Ollama version\n",
    "ollama -v"
   ]
  },
  {
   "cell_type": "code",
   "execution_count": null,
   "id": "d6773049-e57c-447b-9e4b-dd6ff4854cd2",
   "metadata": {},
   "outputs": [],
   "source": [
    "# Download Gemma 2B model\n",
    "# https://ollama.com/library/gemma\n",
    "ollama pull gemma:2b"
   ]
  },
  {
   "cell_type": "code",
   "execution_count": null,
   "id": "7440dfce-42d7-45ab-bf12-ad2758717e69",
   "metadata": {},
   "outputs": [],
   "source": [
    "# Manifest content of the Gemma 2B model\n",
    "cat /root/.ollama/models/manifests/registry.ollama.ai/library/gemma/2b"
   ]
  },
  {
   "cell_type": "code",
   "execution_count": null,
   "id": "90f89560-f74f-4302-aa0d-211241e2c8ec",
   "metadata": {},
   "outputs": [],
   "source": [
    "# Run the Gemma 2B model\n",
    "ollama run gemma:2b"
   ]
  },
  {
   "cell_type": "code",
   "execution_count": null,
   "id": "85e40767-8f00-4c93-bee1-8a332895a623",
   "metadata": {},
   "outputs": [],
   "source": [
    "# 10 * 10"
   ]
  },
  {
   "cell_type": "code",
   "execution_count": null,
   "id": "709f5c93-a0a5-45f0-b3b1-c38155849fc2",
   "metadata": {},
   "outputs": [],
   "source": [
    "# Exit ollama\n",
    "/bye"
   ]
  },
  {
   "cell_type": "code",
   "execution_count": null,
   "id": "2f1daadb-51f5-44aa-8b35-e5eef65527f0",
   "metadata": {},
   "outputs": [],
   "source": [
    "# Exit container\n",
    "exit"
   ]
  },
  {
   "cell_type": "code",
   "execution_count": null,
   "id": "878d66bc-e449-44cf-aa1c-db8291e77350",
   "metadata": {},
   "outputs": [],
   "source": []
  }
 ],
 "metadata": {
  "kernelspec": {
   "display_name": "Python 3 (ipykernel)",
   "language": "python",
   "name": "python3"
  },
  "language_info": {
   "codemirror_mode": {
    "name": "ipython",
    "version": 3
   },
   "file_extension": ".py",
   "mimetype": "text/x-python",
   "name": "python",
   "nbconvert_exporter": "python",
   "pygments_lexer": "ipython3",
   "version": "3.10.13"
  }
 },
 "nbformat": 4,
 "nbformat_minor": 5
}
