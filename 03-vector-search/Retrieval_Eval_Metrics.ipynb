{
 "cells": [
  {
   "cell_type": "markdown",
   "id": "3ea80e34-e318-444c-b265-6028ce113e9a",
   "metadata": {},
   "source": [
    "# Evaluation metrics for retrieval\n",
    "* https://youtu.be/APMrUnC_dy0?list=PL3MmuxUbc_hIB4fSqLy_0AfTjVLpgjV3R\n",
    "* https://youtu.be/bpxi6fKcyLw?list=PL3MmuxUbc_hIB4fSqLy_0AfTjVLpgjV3R\n",
    "* Evaluation metrics: https://github.com/DataTalksClub/llm-zoomcamp/blob/main/03-vector-search/eval/evaluation-metrics.md"
   ]
  },
  {
   "cell_type": "code",
   "execution_count": 32,
   "id": "a3e918e2-c589-4b73-88f5-979b4fdd75ab",
   "metadata": {},
   "outputs": [],
   "source": [
    "# Load Python libraries\n",
    "import requests\n",
    "import hashlib\n",
    "import json\n",
    "import os\n",
    "from openai import OpenAI\n",
    "import pickle"
   ]
  },
  {
   "cell_type": "code",
   "execution_count": 3,
   "id": "3f92ec1c-03e7-4bcb-a2ed-a452a4ef89cf",
   "metadata": {},
   "outputs": [],
   "source": [
    "docs_url = 'https://github.com/DataTalksClub/llm-zoomcamp/blob/main/01-intro/documents.json?raw=1'\n",
    "docs_response = requests.get(docs_url)\n",
    "docs_raw = docs_response.json()"
   ]
  },
  {
   "cell_type": "code",
   "execution_count": 4,
   "id": "de35910d-d05f-41c4-ae7b-619f399fb3d5",
   "metadata": {},
   "outputs": [],
   "source": [
    "documents = []\n",
    "\n",
    "for course in docs_raw:\n",
    "    course_name = course['course']\n",
    "\n",
    "    for doc in course['documents']:\n",
    "        doc['course'] = course_name\n",
    "        documents.append(doc)"
   ]
  },
  {
   "cell_type": "code",
   "execution_count": 6,
   "id": "d61d7429-d140-41d6-95a2-20a9a45422b8",
   "metadata": {},
   "outputs": [
    {
     "data": {
      "text/plain": [
       "{'text': 'GitHub - DataTalksClub data-engineering-zoomcamp#prerequisites',\n",
       " 'section': 'General course-related questions',\n",
       " 'question': 'Course - What are the prerequisites for this course?',\n",
       " 'course': 'data-engineering-zoomcamp'}"
      ]
     },
     "execution_count": 6,
     "metadata": {},
     "output_type": "execute_result"
    }
   ],
   "source": [
    "documents[1]"
   ]
  },
  {
   "cell_type": "code",
   "execution_count": 8,
   "id": "843c3a7d-a774-448a-8353-eae4b76a5c3c",
   "metadata": {},
   "outputs": [],
   "source": [
    "# Create ID's in the documents\n",
    "# https://youtu.be/bpxi6fKcyLw?list=PL3MmuxUbc_hIB4fSqLy_0AfTjVLpgjV3R&t=422\n",
    "def generate_document_id(doc):\n",
    "    combined = f\"{doc['course']}--{doc['question']}--{doc['text'][:10]}\"\n",
    "    hash_object = hashlib.md5(combined.encode())\n",
    "    hash_hex = hash_object.hexdigest()\n",
    "    doc_id = hash_hex[:8]\n",
    "    return doc_id"
   ]
  },
  {
   "cell_type": "code",
   "execution_count": 9,
   "id": "11179668-528a-475b-bb1e-96cf06a7d4b1",
   "metadata": {},
   "outputs": [
    {
     "data": {
      "text/plain": [
       "'325dc7a4'"
      ]
     },
     "execution_count": 9,
     "metadata": {},
     "output_type": "execute_result"
    }
   ],
   "source": [
    "generate_document_id(documents[1])"
   ]
  },
  {
   "cell_type": "code",
   "execution_count": 10,
   "id": "14633c24-969e-4aa5-b9f7-34aebab63518",
   "metadata": {},
   "outputs": [],
   "source": [
    "# Generate ID's for all records in documents\n",
    "for doc in documents:\n",
    "    doc['id'] = generate_document_id(doc)"
   ]
  },
  {
   "cell_type": "code",
   "execution_count": 11,
   "id": "aabcf5e5-6a83-4d52-aeb4-06e3178b6361",
   "metadata": {},
   "outputs": [
    {
     "data": {
      "text/plain": [
       "[{'text': 'GitHub - DataTalksClub data-engineering-zoomcamp#prerequisites',\n",
       "  'section': 'General course-related questions',\n",
       "  'question': 'Course - What are the prerequisites for this course?',\n",
       "  'course': 'data-engineering-zoomcamp',\n",
       "  'id': '325dc7a4'},\n",
       " {'text': \"Yes, even if you don't register, you're still eligible to submit the homeworks.\\nBe aware, however, that there will be deadlines for turning in the final projects. So don't leave everything for the last minute.\",\n",
       "  'section': 'General course-related questions',\n",
       "  'question': 'Course - Can I still join the course after the start date?',\n",
       "  'course': 'data-engineering-zoomcamp',\n",
       "  'id': '0ba05b5a'}]"
      ]
     },
     "execution_count": 11,
     "metadata": {},
     "output_type": "execute_result"
    }
   ],
   "source": [
    "documents[1:3]"
   ]
  },
  {
   "cell_type": "code",
   "execution_count": 14,
   "id": "3f95c2cd-87b6-4c6c-b102-59605fc400be",
   "metadata": {},
   "outputs": [],
   "source": [
    "# Save document with ID's as new JSON file\n",
    "with open('docs_with_ids.json', 'wt') as fout:\n",
    "    json.dump(documents, fout, indent=2)"
   ]
  },
  {
   "cell_type": "code",
   "execution_count": 15,
   "id": "b8ea7867-bf5e-4de8-bf23-35faead3bba9",
   "metadata": {},
   "outputs": [
    {
     "name": "stdout",
     "output_type": "stream",
     "text": [
      "total 1384\n",
      "drwxrwxrwx+ 3 codespace codespace   4096 Jul 15 19:10 .\n",
      "drwxrwxrwx+ 7 codespace root        4096 Jul 15 13:10 ..\n",
      "drwxrwxrwx+ 2 codespace codespace   4096 Jul 15 18:16 .ipynb_checkpoints\n",
      "-rw-rw-rw-  1 codespace codespace 693170 Jul 15 18:33 ElasticSearch_example.ipynb\n",
      "-rw-rw-rw-  1 codespace codespace   5104 Jul 15 19:08 Retrieval_Eval_Metrics.ipynb\n",
      "-rw-rw-rw-  1 codespace codespace 699257 Jul 15 19:10 docs_with_ids.json\n"
     ]
    }
   ],
   "source": [
    "!ls -la"
   ]
  },
  {
   "cell_type": "code",
   "execution_count": 16,
   "id": "3ee69dfd-5f8e-43f7-a15f-7e33802f157b",
   "metadata": {},
   "outputs": [
    {
     "name": "stdout",
     "output_type": "stream",
     "text": [
      "[\n",
      "  {\n",
      "    \"text\": \"The purpose of this document is to capture frequently asked technical questions\\nThe exact day and hour of the course will be 15th Jan 2024 at 17h00. The course will start with the first  \\u201cOffice Hours'' live.1\\nSubscribe to course public Google Calendar (it works from Desktop only).\\nRegister before the course starts using this link.\\nJoin the course Telegram channel with announcements.\\nDon\\u2019t forget to register in DataTalks.Club's Slack and join the channel.\",\n",
      "    \"section\": \"General course-related questions\",\n",
      "    \"question\": \"Course - When will the course start?\",\n",
      "    \"course\": \"data-engineering-zoomcamp\",\n",
      "    \"id\": \"bf582b8c\"\n",
      "  },\n",
      "  {\n",
      "    \"text\": \"GitHub - DataTalksClub data-engineering-zoomcamp#prerequisites\",\n"
     ]
    }
   ],
   "source": [
    "!head docs_with_ids.json"
   ]
  },
  {
   "cell_type": "code",
   "execution_count": 17,
   "id": "cda536fe-573e-4393-9266-47f960504434",
   "metadata": {},
   "outputs": [],
   "source": [
    "prompt_template = \"\"\"\n",
    "You emulate a student who's taking our course.\n",
    "Formulate 5 questions this student might ask based on a FAQ record. The record\n",
    "should contain the answer to the questions, and the questions should be complete and not too short.\n",
    "If possible, use as fewer words as possible from the record. \n",
    "\n",
    "The record:\n",
    "\n",
    "section: {section}\n",
    "question: {question}\n",
    "answer: {text}\n",
    "\n",
    "Provide the output in parsable JSON without using code blocks:\n",
    "\n",
    "[\"question1\", \"question2\", ..., \"question5\"]\n",
    "\"\"\".strip()"
   ]
  },
  {
   "cell_type": "code",
   "execution_count": null,
   "id": "37811b64-6a41-49b1-a010-d3b28b9e84b5",
   "metadata": {},
   "outputs": [],
   "source": [
    "# https://youtu.be/bpxi6fKcyLw?list=PL3MmuxUbc_hIB4fSqLy_0AfTjVLpgjV3R&t=964\n",
    "\n",
    "# Set OPENAI_API_KEY\n",
    "os.environ['OPENAI_API_KEY'] = 'API_KEY'\n",
    "\n",
    "# ChatGPT client\n",
    "client = OpenAI()"
   ]
  },
  {
   "cell_type": "code",
   "execution_count": 27,
   "id": "24f4dc25-c2e7-429e-86e0-32a276b0df9e",
   "metadata": {},
   "outputs": [
    {
     "data": {
      "text/plain": [
       "{'text': \"Yes, even if you don't register, you're still eligible to submit the homeworks.\\nBe aware, however, that there will be deadlines for turning in the final projects. So don't leave everything for the last minute.\",\n",
       " 'section': 'General course-related questions',\n",
       " 'question': 'Course - Can I still join the course after the start date?',\n",
       " 'course': 'data-engineering-zoomcamp',\n",
       " 'id': '0ba05b5a'}"
      ]
     },
     "execution_count": 27,
     "metadata": {},
     "output_type": "execute_result"
    }
   ],
   "source": [
    "# Create a prompt\n",
    "doc = documents[2]\n",
    "doc"
   ]
  },
  {
   "cell_type": "code",
   "execution_count": 28,
   "id": "a1fe0e93-0159-4faa-803e-3eb0de5c96bf",
   "metadata": {},
   "outputs": [
    {
     "name": "stdout",
     "output_type": "stream",
     "text": [
      "You emulate a student who's taking our course.\n",
      "Formulate 5 questions this student might ask based on a FAQ record. The record\n",
      "should contain the answer to the questions, and the questions should be complete and not too short.\n",
      "If possible, use as fewer words as possible from the record. \n",
      "\n",
      "The record:\n",
      "\n",
      "section: General course-related questions\n",
      "question: Course - Can I still join the course after the start date?\n",
      "answer: Yes, even if you don't register, you're still eligible to submit the homeworks.\n",
      "Be aware, however, that there will be deadlines for turning in the final projects. So don't leave everything for the last minute.\n",
      "\n",
      "Provide the output in parsable JSON without using code blocks:\n",
      "\n",
      "[\"question1\", \"question2\", ..., \"question5\"]\n"
     ]
    }
   ],
   "source": [
    "prompt = prompt_template.format(**doc)\n",
    "print(prompt)"
   ]
  },
  {
   "cell_type": "code",
   "execution_count": 29,
   "id": "f72764e5-ef00-4368-a1ef-c9d699e6b1c2",
   "metadata": {},
   "outputs": [],
   "source": [
    "def generate_questions(doc):\n",
    "    prompt = prompt_template.format(**doc)\n",
    "\n",
    "    response = client.chat.completions.create(\n",
    "        model='gpt-4o',\n",
    "        messages=[{\"role\": \"user\", \"content\": prompt}]\n",
    "    )\n",
    "\n",
    "    json_response = response.choices[0].message.content\n",
    "    return json_response"
   ]
  },
  {
   "cell_type": "code",
   "execution_count": null,
   "id": "376c23d5-72c0-454e-aab5-86bceb9b77f1",
   "metadata": {},
   "outputs": [],
   "source": [
    "# https://youtu.be/bpxi6fKcyLw?list=PL3MmuxUbc_hIB4fSqLy_0AfTjVLpgjV3R&t=1129\n",
    "# This will cost ~ 4 USD\n",
    "results = {}\n",
    "for doc in documents: \n",
    "    doc_id = doc['id']\n",
    "    if doc_id in results:\n",
    "        continue\n",
    "\n",
    "    questions = generate_questions(doc)\n",
    "    results[doc_id] = questions"
   ]
  },
  {
   "cell_type": "code",
   "execution_count": 30,
   "id": "de1f424d-e77c-4a3e-bc02-d8a25fd7694f",
   "metadata": {},
   "outputs": [
    {
     "name": "stdout",
     "output_type": "stream",
     "text": [
      "--2024-07-15 19:46:56--  https://github.com/DataTalksClub/llm-zoomcamp/blob/main/03-vector-search/eval/results.bin\n",
      "Resolving github.com (github.com)... 140.82.121.4\n",
      "Connecting to github.com (github.com)|140.82.121.4|:443... connected.\n",
      "HTTP request sent, awaiting response... 200 OK\n",
      "Length: unspecified [text/html]\n",
      "Saving to: ‘results.bin’\n",
      "\n",
      "results.bin             [ <=>                ] 284.73K  --.-KB/s    in 0.03s   \n",
      "\n",
      "2024-07-15 19:46:56 (8.75 MB/s) - ‘results.bin’ saved [291566]\n",
      "\n"
     ]
    }
   ],
   "source": [
    "!wget https://github.com/DataTalksClub/llm-zoomcamp/blob/main/03-vector-search/eval/results.bin"
   ]
  },
  {
   "cell_type": "code",
   "execution_count": 49,
   "id": "ca3427d1-2fcd-424a-8f48-b80fa7be4b63",
   "metadata": {},
   "outputs": [
    {
     "ename": "UnpicklingError",
     "evalue": "invalid load key, '\\x0a'.",
     "output_type": "error",
     "traceback": [
      "\u001b[0;31m---------------------------------------------------------------------------\u001b[0m",
      "\u001b[0;31mUnpicklingError\u001b[0m                           Traceback (most recent call last)",
      "Cell \u001b[0;32mIn[49], line 3\u001b[0m\n\u001b[1;32m      1\u001b[0m \u001b[38;5;66;03m# Already processed file\u001b[39;00m\n\u001b[1;32m      2\u001b[0m \u001b[38;5;28;01mwith\u001b[39;00m \u001b[38;5;28mopen\u001b[39m(\u001b[38;5;124m'\u001b[39m\u001b[38;5;124mresults.bin\u001b[39m\u001b[38;5;124m'\u001b[39m, \u001b[38;5;124m'\u001b[39m\u001b[38;5;124mrb\u001b[39m\u001b[38;5;124m'\u001b[39m) \u001b[38;5;28;01mas\u001b[39;00m f_in:\n\u001b[0;32m----> 3\u001b[0m     results \u001b[38;5;241m=\u001b[39m \u001b[43mpickle\u001b[49m\u001b[38;5;241;43m.\u001b[39;49m\u001b[43mload\u001b[49m\u001b[43m(\u001b[49m\u001b[43mf_in\u001b[49m\u001b[43m)\u001b[49m\n",
      "\u001b[0;31mUnpicklingError\u001b[0m: invalid load key, '\\x0a'."
     ]
    }
   ],
   "source": [
    "# Already processed file\n",
    "with open('results.bin', 'rb') as f_in:\n",
    "    results = pickle.load(f_in)"
   ]
  },
  {
   "cell_type": "code",
   "execution_count": 47,
   "id": "7052128d-eff1-40b7-b815-608229c694ca",
   "metadata": {},
   "outputs": [
    {
     "data": {
      "text/plain": [
       "'/workspaces/LLM-zoomcamp/03-vector-search'"
      ]
     },
     "execution_count": 47,
     "metadata": {},
     "output_type": "execute_result"
    }
   ],
   "source": [
    "os.listdir(os.getcwd())\n",
    "os.getcwd()"
   ]
  },
  {
   "cell_type": "code",
   "execution_count": 42,
   "id": "91c6f034-b30c-4159-9e22-bb67a045dfe2",
   "metadata": {},
   "outputs": [
    {
     "name": "stdout",
     "output_type": "stream",
     "text": [
      "total 1680\n",
      "drwxrwxrwx+ 3 codespace codespace   4096 Jul 15 19:57 .\n",
      "drwxrwxrwx+ 7 codespace root        4096 Jul 15 13:10 ..\n",
      "drwxrwxrwx+ 2 codespace codespace   4096 Jul 15 18:16 .ipynb_checkpoints\n",
      "-rw-rw-rw-  1 codespace codespace 693170 Jul 15 18:33 ElasticSearch_example.ipynb\n",
      "-rw-rw-rw-  1 codespace codespace  15141 Jul 15 19:57 Retrieval_Eval_Metrics.ipynb\n",
      "-rw-rw-rw-  1 codespace codespace 699257 Jul 15 19:10 docs_with_ids.json\n",
      "-rw-rw-rw-  1 codespace codespace 291566 Jul 15 19:46 results.bin\n"
     ]
    }
   ],
   "source": [
    "!ls -la"
   ]
  },
  {
   "cell_type": "code",
   "execution_count": null,
   "id": "6853c98a-16da-4f8e-863b-9b565bd0dee3",
   "metadata": {},
   "outputs": [],
   "source": []
  }
 ],
 "metadata": {
  "kernelspec": {
   "display_name": "Python 3 (ipykernel)",
   "language": "python",
   "name": "python3"
  },
  "language_info": {
   "codemirror_mode": {
    "name": "ipython",
    "version": 3
   },
   "file_extension": ".py",
   "mimetype": "text/x-python",
   "name": "python",
   "nbconvert_exporter": "python",
   "pygments_lexer": "ipython3",
   "version": "3.10.13"
  }
 },
 "nbformat": 4,
 "nbformat_minor": 5
}
