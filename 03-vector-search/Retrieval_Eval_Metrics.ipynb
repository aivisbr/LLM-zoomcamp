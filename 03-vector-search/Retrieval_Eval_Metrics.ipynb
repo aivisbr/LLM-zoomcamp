{
 "cells": [
  {
   "cell_type": "markdown",
   "id": "3ea80e34-e318-444c-b265-6028ce113e9a",
   "metadata": {},
   "source": [
    "# Evaluation metrics for retrieval\n",
    "* https://youtu.be/APMrUnC_dy0?list=PL3MmuxUbc_hIB4fSqLy_0AfTjVLpgjV3R\n",
    "* https://youtu.be/bpxi6fKcyLw?list=PL3MmuxUbc_hIB4fSqLy_0AfTjVLpgjV3R\n",
    "* Evaluation of text retrieval techniques for RAG: https://youtu.be/fdIV4xCsp0c?list=PL3MmuxUbc_hIB4fSqLy_0AfTjVLpgjV3R\n",
    "* Evaluation metrics: https://github.com/DataTalksClub/llm-zoomcamp/blob/main/03-vector-search/eval/evaluation-metrics.md"
   ]
  },
  {
   "cell_type": "code",
   "execution_count": 32,
   "id": "a3e918e2-c589-4b73-88f5-979b4fdd75ab",
   "metadata": {},
   "outputs": [],
   "source": [
    "# Load Python libraries\n",
    "import requests\n",
    "import hashlib\n",
    "import json\n",
    "import os\n",
    "from openai import OpenAI\n",
    "import pickle"
   ]
  },
  {
   "cell_type": "code",
   "execution_count": 3,
   "id": "3f92ec1c-03e7-4bcb-a2ed-a452a4ef89cf",
   "metadata": {},
   "outputs": [],
   "source": [
    "docs_url = 'https://github.com/DataTalksClub/llm-zoomcamp/blob/main/01-intro/documents.json?raw=1'\n",
    "docs_response = requests.get(docs_url)\n",
    "docs_raw = docs_response.json()"
   ]
  },
  {
   "cell_type": "code",
   "execution_count": 4,
   "id": "de35910d-d05f-41c4-ae7b-619f399fb3d5",
   "metadata": {},
   "outputs": [],
   "source": [
    "documents = []\n",
    "\n",
    "for course in docs_raw:\n",
    "    course_name = course['course']\n",
    "\n",
    "    for doc in course['documents']:\n",
    "        doc['course'] = course_name\n",
    "        documents.append(doc)"
   ]
  },
  {
   "cell_type": "code",
   "execution_count": 6,
   "id": "d61d7429-d140-41d6-95a2-20a9a45422b8",
   "metadata": {},
   "outputs": [
    {
     "data": {
      "text/plain": [
       "{'text': 'GitHub - DataTalksClub data-engineering-zoomcamp#prerequisites',\n",
       " 'section': 'General course-related questions',\n",
       " 'question': 'Course - What are the prerequisites for this course?',\n",
       " 'course': 'data-engineering-zoomcamp'}"
      ]
     },
     "execution_count": 6,
     "metadata": {},
     "output_type": "execute_result"
    }
   ],
   "source": [
    "documents[1]"
   ]
  },
  {
   "cell_type": "code",
   "execution_count": 87,
   "id": "843c3a7d-a774-448a-8353-eae4b76a5c3c",
   "metadata": {},
   "outputs": [],
   "source": [
    "# Create ID's in the documents\n",
    "# https://youtu.be/bpxi6fKcyLw?list=PL3MmuxUbc_hIB4fSqLy_0AfTjVLpgjV3R&t=422\n",
    "def generate_document_id(doc):\n",
    "    combined = f\"{doc['course']}-{doc['question']}-{doc['text'][:10]}\"\n",
    "    hash_object = hashlib.md5(combined.encode())\n",
    "    hash_hex = hash_object.hexdigest()\n",
    "    doc_id = hash_hex[:8]\n",
    "    return doc_id"
   ]
  },
  {
   "cell_type": "code",
   "execution_count": 88,
   "id": "11179668-528a-475b-bb1e-96cf06a7d4b1",
   "metadata": {},
   "outputs": [
    {
     "data": {
      "text/plain": [
       "'1f6520ca'"
      ]
     },
     "execution_count": 88,
     "metadata": {},
     "output_type": "execute_result"
    }
   ],
   "source": [
    "generate_document_id(documents[1])"
   ]
  },
  {
   "cell_type": "code",
   "execution_count": 89,
   "id": "14633c24-969e-4aa5-b9f7-34aebab63518",
   "metadata": {},
   "outputs": [],
   "source": [
    "# Generate ID's for all records in documents\n",
    "for doc in documents:\n",
    "    doc['id'] = generate_document_id(doc)"
   ]
  },
  {
   "cell_type": "code",
   "execution_count": 90,
   "id": "aabcf5e5-6a83-4d52-aeb4-06e3178b6361",
   "metadata": {},
   "outputs": [
    {
     "data": {
      "text/plain": [
       "[{'text': 'GitHub - DataTalksClub data-engineering-zoomcamp#prerequisites',\n",
       "  'section': 'General course-related questions',\n",
       "  'question': 'Course - What are the prerequisites for this course?',\n",
       "  'course': 'data-engineering-zoomcamp',\n",
       "  'id': '1f6520ca'},\n",
       " {'text': \"Yes, even if you don't register, you're still eligible to submit the homeworks.\\nBe aware, however, that there will be deadlines for turning in the final projects. So don't leave everything for the last minute.\",\n",
       "  'section': 'General course-related questions',\n",
       "  'question': 'Course - Can I still join the course after the start date?',\n",
       "  'course': 'data-engineering-zoomcamp',\n",
       "  'id': '7842b56a'}]"
      ]
     },
     "execution_count": 90,
     "metadata": {},
     "output_type": "execute_result"
    }
   ],
   "source": [
    "documents[1:3]"
   ]
  },
  {
   "cell_type": "code",
   "execution_count": 91,
   "id": "3f95c2cd-87b6-4c6c-b102-59605fc400be",
   "metadata": {},
   "outputs": [],
   "source": [
    "# Save document with ID's as new JSON file\n",
    "with open('docs_with_ids.json', 'wt') as fout:\n",
    "    json.dump(documents, fout, indent=2)"
   ]
  },
  {
   "cell_type": "code",
   "execution_count": 92,
   "id": "b8ea7867-bf5e-4de8-bf23-35faead3bba9",
   "metadata": {},
   "outputs": [
    {
     "name": "stdout",
     "output_type": "stream",
     "text": [
      "total 1792\n",
      "drwxrwxrwx+ 3 codespace codespace   4096 Jul 15 20:51 .\n",
      "drwxrwxrwx+ 7 codespace root        4096 Jul 15 13:10 ..\n",
      "drwxrwxrwx+ 2 codespace codespace   4096 Jul 15 18:16 .ipynb_checkpoints\n",
      "-rw-rw-rw-  1 codespace codespace 693170 Jul 15 18:33 ElasticSearch_example.ipynb\n",
      "-rw-rw-rw-  1 codespace codespace  19062 Jul 15 20:51 Retrieval_Eval_Metrics.ipynb\n",
      "-rw-rw-rw-  1 codespace codespace 699257 Jul 15 20:51 docs_with_ids.json\n",
      "-rw-rw-rw-  1 codespace codespace 403252 Jul 15 20:29 results.bin\n"
     ]
    }
   ],
   "source": [
    "!ls -la"
   ]
  },
  {
   "cell_type": "code",
   "execution_count": 93,
   "id": "3ee69dfd-5f8e-43f7-a15f-7e33802f157b",
   "metadata": {},
   "outputs": [
    {
     "name": "stdout",
     "output_type": "stream",
     "text": [
      "[\n",
      "  {\n",
      "    \"text\": \"The purpose of this document is to capture frequently asked technical questions\\nThe exact day and hour of the course will be 15th Jan 2024 at 17h00. The course will start with the first  \\u201cOffice Hours'' live.1\\nSubscribe to course public Google Calendar (it works from Desktop only).\\nRegister before the course starts using this link.\\nJoin the course Telegram channel with announcements.\\nDon\\u2019t forget to register in DataTalks.Club's Slack and join the channel.\",\n",
      "    \"section\": \"General course-related questions\",\n",
      "    \"question\": \"Course - When will the course start?\",\n",
      "    \"course\": \"data-engineering-zoomcamp\",\n",
      "    \"id\": \"c02e79ef\"\n",
      "  },\n",
      "  {\n",
      "    \"text\": \"GitHub - DataTalksClub data-engineering-zoomcamp#prerequisites\",\n"
     ]
    }
   ],
   "source": [
    "!head docs_with_ids.json"
   ]
  },
  {
   "cell_type": "code",
   "execution_count": 17,
   "id": "cda536fe-573e-4393-9266-47f960504434",
   "metadata": {},
   "outputs": [],
   "source": [
    "prompt_template = \"\"\"\n",
    "You emulate a student who's taking our course.\n",
    "Formulate 5 questions this student might ask based on a FAQ record. The record\n",
    "should contain the answer to the questions, and the questions should be complete and not too short.\n",
    "If possible, use as fewer words as possible from the record. \n",
    "\n",
    "The record:\n",
    "\n",
    "section: {section}\n",
    "question: {question}\n",
    "answer: {text}\n",
    "\n",
    "Provide the output in parsable JSON without using code blocks:\n",
    "\n",
    "[\"question1\", \"question2\", ..., \"question5\"]\n",
    "\"\"\".strip()"
   ]
  },
  {
   "cell_type": "code",
   "execution_count": null,
   "id": "37811b64-6a41-49b1-a010-d3b28b9e84b5",
   "metadata": {},
   "outputs": [],
   "source": [
    "# https://youtu.be/bpxi6fKcyLw?list=PL3MmuxUbc_hIB4fSqLy_0AfTjVLpgjV3R&t=964\n",
    "\n",
    "# Set OPENAI_API_KEY\n",
    "os.environ['OPENAI_API_KEY'] = 'API_KEY'\n",
    "\n",
    "# ChatGPT client\n",
    "client = OpenAI()"
   ]
  },
  {
   "cell_type": "code",
   "execution_count": 94,
   "id": "24f4dc25-c2e7-429e-86e0-32a276b0df9e",
   "metadata": {},
   "outputs": [
    {
     "data": {
      "text/plain": [
       "{'text': \"Yes, even if you don't register, you're still eligible to submit the homeworks.\\nBe aware, however, that there will be deadlines for turning in the final projects. So don't leave everything for the last minute.\",\n",
       " 'section': 'General course-related questions',\n",
       " 'question': 'Course - Can I still join the course after the start date?',\n",
       " 'course': 'data-engineering-zoomcamp',\n",
       " 'id': '7842b56a'}"
      ]
     },
     "execution_count": 94,
     "metadata": {},
     "output_type": "execute_result"
    }
   ],
   "source": [
    "# Create a prompt\n",
    "doc = documents[2]\n",
    "doc"
   ]
  },
  {
   "cell_type": "code",
   "execution_count": 95,
   "id": "a1fe0e93-0159-4faa-803e-3eb0de5c96bf",
   "metadata": {},
   "outputs": [
    {
     "name": "stdout",
     "output_type": "stream",
     "text": [
      "You emulate a student who's taking our course.\n",
      "Formulate 5 questions this student might ask based on a FAQ record. The record\n",
      "should contain the answer to the questions, and the questions should be complete and not too short.\n",
      "If possible, use as fewer words as possible from the record. \n",
      "\n",
      "The record:\n",
      "\n",
      "section: General course-related questions\n",
      "question: Course - Can I still join the course after the start date?\n",
      "answer: Yes, even if you don't register, you're still eligible to submit the homeworks.\n",
      "Be aware, however, that there will be deadlines for turning in the final projects. So don't leave everything for the last minute.\n",
      "\n",
      "Provide the output in parsable JSON without using code blocks:\n",
      "\n",
      "[\"question1\", \"question2\", ..., \"question5\"]\n"
     ]
    }
   ],
   "source": [
    "prompt = prompt_template.format(**doc)\n",
    "print(prompt)"
   ]
  },
  {
   "cell_type": "code",
   "execution_count": 29,
   "id": "f72764e5-ef00-4368-a1ef-c9d699e6b1c2",
   "metadata": {},
   "outputs": [],
   "source": [
    "def generate_questions(doc):\n",
    "    prompt = prompt_template.format(**doc)\n",
    "\n",
    "    response = client.chat.completions.create(\n",
    "        model='gpt-4o',\n",
    "        messages=[{\"role\": \"user\", \"content\": prompt}]\n",
    "    )\n",
    "\n",
    "    json_response = response.choices[0].message.content\n",
    "    return json_response"
   ]
  },
  {
   "cell_type": "code",
   "execution_count": null,
   "id": "376c23d5-72c0-454e-aab5-86bceb9b77f1",
   "metadata": {},
   "outputs": [],
   "source": [
    "# https://youtu.be/bpxi6fKcyLw?list=PL3MmuxUbc_hIB4fSqLy_0AfTjVLpgjV3R&t=1129\n",
    "# This will cost ~ 4 USD\n",
    "results = {}\n",
    "for doc in documents: \n",
    "    doc_id = doc['id']\n",
    "    if doc_id in results:\n",
    "        continue\n",
    "\n",
    "    questions = generate_questions(doc)\n",
    "    results[doc_id] = questions"
   ]
  },
  {
   "cell_type": "code",
   "execution_count": 52,
   "id": "ca3427d1-2fcd-424a-8f48-b80fa7be4b63",
   "metadata": {},
   "outputs": [],
   "source": [
    "# Already processed file\n",
    "# file from: https://github.com/DataTalksClub/llm-zoomcamp/blob/main/03-vector-search/eval/results.bin\n",
    "with open('results.bin', 'rb') as f_in:\n",
    "    results = pickle.load(f_in)"
   ]
  },
  {
   "cell_type": "code",
   "execution_count": 97,
   "id": "91c6f034-b30c-4159-9e22-bb67a045dfe2",
   "metadata": {},
   "outputs": [
    {
     "data": {
      "text/plain": [
       "'[\"Where can I find the prerequisites for this course?\", \"How do I check the prerequisites for this course?\", \"Where are the course prerequisites listed?\", \"What are the requirements for joining this course?\", \"Where is the list of prerequisites for the course?\"]'"
      ]
     },
     "execution_count": 97,
     "metadata": {},
     "output_type": "execute_result"
    }
   ],
   "source": [
    "results['1f6520ca']"
   ]
  },
  {
   "cell_type": "code",
   "execution_count": 98,
   "id": "6853c98a-16da-4f8e-863b-9b565bd0dee3",
   "metadata": {},
   "outputs": [],
   "source": [
    "# https://youtu.be/bpxi6fKcyLw?list=PL3MmuxUbc_hIB4fSqLy_0AfTjVLpgjV3R&t=1332\n",
    "parsed_results = {}\n",
    "for docid, json_questions in results.items():\n",
    "    parsed_results[docid] = json.loads(json_questions)"
   ]
  },
  {
   "cell_type": "code",
   "execution_count": 61,
   "id": "8e461ee2-9626-4574-b55b-0d90c715fe3b",
   "metadata": {},
   "outputs": [],
   "source": [
    "# fixing one issue:\n",
    "json_questions = [\n",
    "r\"How can I resolve the Docker error 'invalid mode: \\Program Files\\Git\\var\\lib\\postgresql\\data'?\",\n",
    "\"What should I do if I encounter an invalid mode error in Docker on Windows?\",\n",
    "\"What is the correct mounting path to use in Docker for PostgreSQL data on Windows?\",\n",
    "\"Can you provide an example of a correct Docker mounting path for PostgreSQL data?\",\n",
    "r\"How do I correct the mounting path error in Docker for \\Program Files\\Git\\var\\lib\\postgresql\\data'?\"\n",
    "]"
   ]
  },
  {
   "cell_type": "code",
   "execution_count": 63,
   "id": "0cf511e6-b53a-4adc-8036-314324dcce7b",
   "metadata": {},
   "outputs": [
    {
     "data": {
      "text/plain": [
       "'58c9f99f'"
      ]
     },
     "execution_count": 63,
     "metadata": {},
     "output_type": "execute_result"
    }
   ],
   "source": [
    "docid"
   ]
  },
  {
   "cell_type": "code",
   "execution_count": 64,
   "id": "78ce2037-63e9-40c2-932b-b129a047bfbf",
   "metadata": {},
   "outputs": [],
   "source": [
    "# fixing one issue:\n",
    "results[docid] = json.dumps(json_questions)"
   ]
  },
  {
   "cell_type": "code",
   "execution_count": 66,
   "id": "db9a11e6-4bde-4a49-a981-a2b8d84c9940",
   "metadata": {},
   "outputs": [],
   "source": [
    "# Re-run this again:\n",
    "#for docid, json_questions in results.items():\n",
    "#    parsed_results[docid] = json.loads(json_questions)"
   ]
  },
  {
   "cell_type": "code",
   "execution_count": 99,
   "id": "9e19f972-f7a9-4179-8acb-98256ab59218",
   "metadata": {},
   "outputs": [
    {
     "data": {
      "text/plain": [
       "['When does the course begin?',\n",
       " 'How can I get the course schedule?',\n",
       " 'What is the link for course registration?',\n",
       " 'How can I receive course announcements?',\n",
       " 'Where do I join the Slack channel?']"
      ]
     },
     "execution_count": 99,
     "metadata": {},
     "output_type": "execute_result"
    }
   ],
   "source": [
    "parsed_results['c02e79ef']"
   ]
  },
  {
   "cell_type": "code",
   "execution_count": 107,
   "id": "5bbcae3e-1c46-4d4c-899a-96867bed08cb",
   "metadata": {},
   "outputs": [
    {
     "data": {
      "text/plain": [
       "{'text': \"The purpose of this document is to capture frequently asked technical questions\\nThe exact day and hour of the course will be 15th Jan 2024 at 17h00. The course will start with the first  “Office Hours'' live.1\\nSubscribe to course public Google Calendar (it works from Desktop only).\\nRegister before the course starts using this link.\\nJoin the course Telegram channel with announcements.\\nDon’t forget to register in DataTalks.Club's Slack and join the channel.\",\n",
       " 'section': 'General course-related questions',\n",
       " 'question': 'Course - When will the course start?',\n",
       " 'course': 'data-engineering-zoomcamp',\n",
       " 'id': 'c02e79ef'}"
      ]
     },
     "execution_count": 107,
     "metadata": {},
     "output_type": "execute_result"
    }
   ],
   "source": [
    "# https://youtu.be/bpxi6fKcyLw?list=PL3MmuxUbc_hIB4fSqLy_0AfTjVLpgjV3R&t=1469\n",
    "doc_index = {d['id']: d for d in documents}\n",
    "doc_index['c02e79ef']"
   ]
  },
  {
   "cell_type": "code",
   "execution_count": 110,
   "id": "bb9cdd2a-2c21-4530-9989-af5260e678b4",
   "metadata": {},
   "outputs": [
    {
     "data": {
      "text/plain": [
       "[('When does the course begin?', 'data-engineering-zoomcamp', 'c02e79ef'),\n",
       " ('How can I get the course schedule?',\n",
       "  'data-engineering-zoomcamp',\n",
       "  'c02e79ef'),\n",
       " ('What is the link for course registration?',\n",
       "  'data-engineering-zoomcamp',\n",
       "  'c02e79ef'),\n",
       " ('How can I receive course announcements?',\n",
       "  'data-engineering-zoomcamp',\n",
       "  'c02e79ef')]"
      ]
     },
     "execution_count": 110,
     "metadata": {},
     "output_type": "execute_result"
    }
   ],
   "source": [
    "final_results = []\n",
    "for docid, questions in parsed_results.items():\n",
    "    course = doc_index[docid]['course']\n",
    "    for q in questions:\n",
    "        final_results.append((q, course, docid))\n",
    "final_results[:4]"
   ]
  },
  {
   "cell_type": "code",
   "execution_count": 109,
   "id": "290e1606-cc34-4ed9-a818-06c1a862d56c",
   "metadata": {},
   "outputs": [],
   "source": [
    "import pandas as pd"
   ]
  },
  {
   "cell_type": "code",
   "execution_count": 113,
   "id": "3322e3a2-e655-4fe7-9b68-8375eae7d762",
   "metadata": {},
   "outputs": [
    {
     "data": {
      "text/html": [
       "<div>\n",
       "<style scoped>\n",
       "    .dataframe tbody tr th:only-of-type {\n",
       "        vertical-align: middle;\n",
       "    }\n",
       "\n",
       "    .dataframe tbody tr th {\n",
       "        vertical-align: top;\n",
       "    }\n",
       "\n",
       "    .dataframe thead th {\n",
       "        text-align: right;\n",
       "    }\n",
       "</style>\n",
       "<table border=\"1\" class=\"dataframe\">\n",
       "  <thead>\n",
       "    <tr style=\"text-align: right;\">\n",
       "      <th></th>\n",
       "      <th>question</th>\n",
       "      <th>course</th>\n",
       "      <th>document</th>\n",
       "    </tr>\n",
       "  </thead>\n",
       "  <tbody>\n",
       "    <tr>\n",
       "      <th>0</th>\n",
       "      <td>When does the course begin?</td>\n",
       "      <td>data-engineering-zoomcamp</td>\n",
       "      <td>c02e79ef</td>\n",
       "    </tr>\n",
       "    <tr>\n",
       "      <th>1</th>\n",
       "      <td>How can I get the course schedule?</td>\n",
       "      <td>data-engineering-zoomcamp</td>\n",
       "      <td>c02e79ef</td>\n",
       "    </tr>\n",
       "    <tr>\n",
       "      <th>2</th>\n",
       "      <td>What is the link for course registration?</td>\n",
       "      <td>data-engineering-zoomcamp</td>\n",
       "      <td>c02e79ef</td>\n",
       "    </tr>\n",
       "    <tr>\n",
       "      <th>3</th>\n",
       "      <td>How can I receive course announcements?</td>\n",
       "      <td>data-engineering-zoomcamp</td>\n",
       "      <td>c02e79ef</td>\n",
       "    </tr>\n",
       "    <tr>\n",
       "      <th>4</th>\n",
       "      <td>Where do I join the Slack channel?</td>\n",
       "      <td>data-engineering-zoomcamp</td>\n",
       "      <td>c02e79ef</td>\n",
       "    </tr>\n",
       "  </tbody>\n",
       "</table>\n",
       "</div>"
      ],
      "text/plain": [
       "                                    question                     course  \\\n",
       "0                When does the course begin?  data-engineering-zoomcamp   \n",
       "1         How can I get the course schedule?  data-engineering-zoomcamp   \n",
       "2  What is the link for course registration?  data-engineering-zoomcamp   \n",
       "3    How can I receive course announcements?  data-engineering-zoomcamp   \n",
       "4         Where do I join the Slack channel?  data-engineering-zoomcamp   \n",
       "\n",
       "   document  \n",
       "0  c02e79ef  \n",
       "1  c02e79ef  \n",
       "2  c02e79ef  \n",
       "3  c02e79ef  \n",
       "4  c02e79ef  "
      ]
     },
     "execution_count": 113,
     "metadata": {},
     "output_type": "execute_result"
    }
   ],
   "source": [
    "# Ground truth dataset\n",
    "df = pd.DataFrame(final_results, columns=['question', 'course', 'document'])\n",
    "df.head()"
   ]
  },
  {
   "cell_type": "code",
   "execution_count": 114,
   "id": "4c0d0213-2cdb-447b-9a43-5dd763d77879",
   "metadata": {},
   "outputs": [],
   "source": [
    "df.to_csv('ground-truth-data.csv', index=False)"
   ]
  },
  {
   "cell_type": "code",
   "execution_count": 116,
   "id": "20adc913-2201-4af6-a7d5-7fcb8dd09f53",
   "metadata": {},
   "outputs": [
    {
     "name": "stdout",
     "output_type": "stream",
     "text": [
      "question,course,document\n",
      "When does the course begin?,data-engineering-zoomcamp,c02e79ef\n",
      "How can I get the course schedule?,data-engineering-zoomcamp,c02e79ef\n",
      "What is the link for course registration?,data-engineering-zoomcamp,c02e79ef\n",
      "How can I receive course announcements?,data-engineering-zoomcamp,c02e79ef\n",
      "Where do I join the Slack channel?,data-engineering-zoomcamp,c02e79ef\n",
      "Where can I find the prerequisites for this course?,data-engineering-zoomcamp,1f6520ca\n",
      "How do I check the prerequisites for this course?,data-engineering-zoomcamp,1f6520ca\n",
      "Where are the course prerequisites listed?,data-engineering-zoomcamp,1f6520ca\n",
      "What are the requirements for joining this course?,data-engineering-zoomcamp,1f6520ca\n"
     ]
    }
   ],
   "source": [
    "!head ground-truth-data.csv"
   ]
  },
  {
   "cell_type": "markdown",
   "id": "13c33378-2134-41b3-93a9-f6036046e521",
   "metadata": {},
   "source": [
    "## Evaluation of text retrieval techniques\n",
    "https://youtu.be/fdIV4xCsp0c?list=PL3MmuxUbc_hIB4fSqLy_0AfTjVLpgjV3R"
   ]
  },
  {
   "cell_type": "code",
   "execution_count": 118,
   "id": "ba129bf4-8a18-429b-9462-d80a010546ca",
   "metadata": {},
   "outputs": [
    {
     "name": "stdout",
     "output_type": "stream",
     "text": [
      "ElasticSearch_example.ipynb   docs_with_ids.json     results.bin\n",
      "Retrieval_Eval_Metrics.ipynb  ground-truth-data.csv\n"
     ]
    }
   ],
   "source": [
    "!ls"
   ]
  },
  {
   "cell_type": "code",
   "execution_count": 119,
   "id": "809eae88-8215-4e1e-84da-af9dd64fe141",
   "metadata": {},
   "outputs": [],
   "source": [
    "import json"
   ]
  },
  {
   "cell_type": "code",
   "execution_count": 120,
   "id": "3068c7ae-2037-4eeb-aa21-67bbb6ccde53",
   "metadata": {},
   "outputs": [],
   "source": [
    "with open('docs_with_ids.json', 'rt') as fin:\n",
    "    docs = json.load(fin)"
   ]
  },
  {
   "cell_type": "code",
   "execution_count": 123,
   "id": "c89cf726-d975-42dd-b9a1-58a514b2fa58",
   "metadata": {},
   "outputs": [
    {
     "data": {
      "text/plain": [
       "{'text': \"There are 3 Zoom Camps in a year, as of 2024. However, they are for separate courses:\\nData-Engineering (Jan - Apr)\\nMLOps (May - Aug)\\nMachine Learning (Sep - Jan)\\nThere's only one Data-Engineering Zoomcamp “live” cohort per year, for the certification. Same as for the other Zoomcamps.\\nThey follow pretty much the same schedule for each cohort per zoomcamp. For Data-Engineering it is (generally) from Jan-Apr of the year. If you’re not interested in the Certificate, you can take any zoom camps at any time, at your own pace, out of sync with any “live” cohort.\",\n",
       " 'section': 'General course-related questions',\n",
       " 'question': 'Course - how many Zoomcamps in a year?',\n",
       " 'course': 'data-engineering-zoomcamp',\n",
       " 'id': '2ed9b986'}"
      ]
     },
     "execution_count": 123,
     "metadata": {},
     "output_type": "execute_result"
    }
   ],
   "source": [
    "docs[5]"
   ]
  },
  {
   "cell_type": "code",
   "execution_count": null,
   "id": "e62d1c62-c118-4073-a906-f6db7158e060",
   "metadata": {},
   "outputs": [],
   "source": [
    "# Run Docker, to get ElasticSearch\n",
    "docker run -it \\\n",
    "    --rm \\\n",
    "    --name elasticsearch \\\n",
    "    -p 9200:9200 \\\n",
    "    -p 9300:9300 \\\n",
    "    -e \"discovery.type=single-node\" \\\n",
    "    -e \"xpack.security.enabled=false\" \\\n",
    "    docker.elastic.co/elasticsearch/elasticsearch:8.4.3"
   ]
  },
  {
   "cell_type": "code",
   "execution_count": 124,
   "id": "2c7ab262-0693-410b-9bc3-eb0870221036",
   "metadata": {},
   "outputs": [],
   "source": [
    "from elasticsearch import Elasticsearch"
   ]
  },
  {
   "cell_type": "code",
   "execution_count": 125,
   "id": "70fd75c9-10bd-4707-b2b7-b9d9633f5bfe",
   "metadata": {},
   "outputs": [],
   "source": [
    "es_client = Elasticsearch('http://localhost:9200')"
   ]
  },
  {
   "cell_type": "code",
   "execution_count": null,
   "id": "c49934e8-ff5a-4f54-bad3-07047003e840",
   "metadata": {},
   "outputs": [],
   "source": []
  }
 ],
 "metadata": {
  "kernelspec": {
   "display_name": "Python 3 (ipykernel)",
   "language": "python",
   "name": "python3"
  },
  "language_info": {
   "codemirror_mode": {
    "name": "ipython",
    "version": 3
   },
   "file_extension": ".py",
   "mimetype": "text/x-python",
   "name": "python",
   "nbconvert_exporter": "python",
   "pygments_lexer": "ipython3",
   "version": "3.10.13"
  }
 },
 "nbformat": 4,
 "nbformat_minor": 5
}
