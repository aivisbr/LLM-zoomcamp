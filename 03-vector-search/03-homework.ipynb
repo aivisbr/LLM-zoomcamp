{
 "cells": [
  {
   "cell_type": "markdown",
   "id": "aff9074e-e383-40b3-bf53-e72868a81d8f",
   "metadata": {},
   "source": [
    "# Homework\n",
    "https://github.com/DataTalksClub/llm-zoomcamp/blob/main/cohorts/2024/03-vector-search/homework.md"
   ]
  },
  {
   "cell_type": "code",
   "execution_count": null,
   "id": "d9fc5095-beaa-4c76-9bc0-d01bb2e8ca0b",
   "metadata": {},
   "outputs": [],
   "source": [
    "# Launch ElasticSearch in Docker \n",
    "!docker run -it \\\n",
    "    --rm \\\n",
    "    --name elasticsearch \\\n",
    "    -p 9200:9200 \\\n",
    "    -p 9300:9300 \\\n",
    "    -e \"discovery.type=single-node\" \\\n",
    "    -e \"xpack.security.enabled=false\" \\\n",
    "    docker.elastic.co/elasticsearch/elasticsearch:8.4.3"
   ]
  },
  {
   "cell_type": "code",
   "execution_count": 1,
   "id": "c673b9f8-fd25-46dc-8895-8b8a7a628400",
   "metadata": {},
   "outputs": [
    {
     "name": "stderr",
     "output_type": "stream",
     "text": [
      "/usr/local/python/3.10.13/lib/python3.10/site-packages/tqdm/auto.py:21: TqdmWarning: IProgress not found. Please update jupyter and ipywidgets. See https://ipywidgets.readthedocs.io/en/stable/user_install.html\n",
      "  from .autonotebook import tqdm as notebook_tqdm\n"
     ]
    }
   ],
   "source": [
    "# Import libraries\n",
    "from sentence_transformers import SentenceTransformer # pip install sentence_transformers==2.7.0\n",
    "import requests\n",
    "import numpy as np\n",
    "import pandas as pd\n",
    "from tqdm.auto import tqdm"
   ]
  },
  {
   "cell_type": "markdown",
   "id": "a2916372-808f-42a5-a8f6-b54d811c4df8",
   "metadata": {},
   "source": [
    "## Get the embeddings model\n",
    "https://www.sbert.net/docs/sentence_transformer/pretrained_models.html#model-overview"
   ]
  },
  {
   "cell_type": "code",
   "execution_count": 2,
   "id": "1cfbc709-5602-40b3-86b4-e2da83b74367",
   "metadata": {},
   "outputs": [],
   "source": [
    "# https://huggingface.co/sentence-transformers/multi-qa-mpnet-base-dot-v1\n",
    "model = SentenceTransformer(\"multi-qa-distilbert-cos-v1\")"
   ]
  },
  {
   "cell_type": "code",
   "execution_count": 3,
   "id": "e3b7d314-9b49-455d-b4b2-14a642fcac71",
   "metadata": {},
   "outputs": [],
   "source": [
    "user_question = \"I just discovered the course. Can I still join it?\""
   ]
  },
  {
   "cell_type": "code",
   "execution_count": 4,
   "id": "244bdeea-046d-4073-b672-b0090d5d991f",
   "metadata": {},
   "outputs": [],
   "source": [
    "encoded_q = model.encode(user_question)"
   ]
  },
  {
   "cell_type": "code",
   "execution_count": 11,
   "id": "d11d1d85-10e9-422c-bdd1-74519d700333",
   "metadata": {},
   "outputs": [
    {
     "data": {
      "text/plain": [
       "0.078222655"
      ]
     },
     "execution_count": 11,
     "metadata": {},
     "output_type": "execute_result"
    }
   ],
   "source": [
    "# Q1. First value\n",
    "encoded_q[0]"
   ]
  },
  {
   "cell_type": "markdown",
   "id": "96566dec-38d9-449d-8ffb-9146b4fa39a6",
   "metadata": {},
   "source": [
    "## Creating the embeddings"
   ]
  },
  {
   "cell_type": "code",
   "execution_count": 12,
   "id": "0417cf17-cfc5-4937-ae7e-0a82328866f7",
   "metadata": {},
   "outputs": [],
   "source": [
    "# Get Q&A JSON (with IDs)\n",
    "base_url = 'https://github.com/DataTalksClub/llm-zoomcamp/blob/main'\n",
    "relative_url = '03-vector-search/eval/documents-with-ids.json'\n",
    "docs_url = f'{base_url}/{relative_url}?raw=1'\n",
    "docs_response = requests.get(docs_url)\n",
    "documents = docs_response.json()"
   ]
  },
  {
   "cell_type": "code",
   "execution_count": 13,
   "id": "6a0d118e-5af6-4f9a-8004-1dced03d577d",
   "metadata": {},
   "outputs": [],
   "source": [
    "ml_docs = [doc for doc in documents if doc['course']=='machine-learning-zoomcamp']"
   ]
  },
  {
   "cell_type": "code",
   "execution_count": 14,
   "id": "b098c4a8-d223-4ad7-b7dc-403b5c963cce",
   "metadata": {},
   "outputs": [
    {
     "data": {
      "text/plain": [
       "[{'text': 'Machine Learning Zoomcamp FAQ\\nThe purpose of this document is to capture frequently asked technical questions.\\nWe did this for our data engineering course and it worked quite well. Check this document for inspiration on how to structure your questions and answers:\\nData Engineering Zoomcamp FAQ\\nIn the course GitHub repository there’s a link. Here it is: https://airtable.com/shryxwLd0COOEaqXo\\nwork',\n",
       "  'section': 'General course-related questions',\n",
       "  'question': 'How do I sign up?',\n",
       "  'course': 'machine-learning-zoomcamp',\n",
       "  'id': '0227b872'},\n",
       " {'text': 'The course videos are pre-recorded, you can start watching the course right now.\\nWe will also occasionally have office hours - live sessions where we will answer your questions. The office hours sessions are recorded too.\\nYou can see the office hours as well as the pre-recorded course videos in the course playlist on YouTube.',\n",
       "  'section': 'General course-related questions',\n",
       "  'question': 'Is it going to be live? When?',\n",
       "  'course': 'machine-learning-zoomcamp',\n",
       "  'id': '39fda9f0'},\n",
       " {'text': 'Everything is recorded, so you won’t miss anything. You will be able to ask your questions for office hours in advance and we will cover them during the live stream. Also, you can always ask questions in Slack.',\n",
       "  'section': 'General course-related questions',\n",
       "  'question': 'What if I miss a session?',\n",
       "  'course': 'machine-learning-zoomcamp',\n",
       "  'id': '5170565b'}]"
      ]
     },
     "execution_count": 14,
     "metadata": {},
     "output_type": "execute_result"
    }
   ],
   "source": [
    "ml_docs[:3]"
   ]
  },
  {
   "cell_type": "code",
   "execution_count": 15,
   "id": "bf5cf2a5-59d7-429e-8447-360b8650753b",
   "metadata": {},
   "outputs": [
    {
     "data": {
      "text/plain": [
       "375"
      ]
     },
     "execution_count": 15,
     "metadata": {},
     "output_type": "execute_result"
    }
   ],
   "source": [
    "len(ml_docs)"
   ]
  },
  {
   "cell_type": "code",
   "execution_count": 16,
   "id": "6ef851bb-56dd-40e4-840d-e773275fdf4c",
   "metadata": {},
   "outputs": [
    {
     "name": "stderr",
     "output_type": "stream",
     "text": [
      "100%|██████████████████████████████████████████████████████████████████████████████████████████████| 375/375 [01:04<00:00,  5.85it/s]\n"
     ]
    }
   ],
   "source": [
    "#Q2. # We want to put all of them into a single matrix X:\n",
    "\n",
    "# Create a list embeddings\n",
    "# Iterate over each document\n",
    "# qa_text = f'{question} {text}'\n",
    "# compute the embedding for qa_text, append to embeddings\n",
    "# At the end, let X = np.array(embeddings) (import numpy as np)\n",
    "# What's the shape of X? (X.shape). Include the parantheses.\n",
    "\n",
    "embeddings = []\n",
    "for mldoc in tqdm(ml_docs):\n",
    "    question = mldoc['question']\n",
    "    text = mldoc['text']\n",
    "    qa_text = f'{question} {text}'\n",
    "    qa_embedding = model.encode(qa_text).tolist()\n",
    "    embeddings.append(qa_embedding)\n",
    "X = np.array(embeddings)"
   ]
  },
  {
   "cell_type": "code",
   "execution_count": 17,
   "id": "bb369534-9474-426f-a36f-24464396e20b",
   "metadata": {},
   "outputs": [
    {
     "data": {
      "text/plain": [
       "array([[ 0.08805905,  0.01559355,  0.07925582, ...,  0.00745118,\n",
       "         0.00241914,  0.01147128],\n",
       "       [ 0.07066919, -0.01930568,  0.07738373, ...,  0.04495561,\n",
       "         0.01078552, -0.02316595],\n",
       "       [ 0.10229158, -0.01663243,  0.03414485, ...,  0.03215314,\n",
       "        -0.04317448, -0.04574372],\n",
       "       ...,\n",
       "       [-0.00768192,  0.0107567 ,  0.01190489, ...,  0.06066168,\n",
       "        -0.03393206,  0.01605331],\n",
       "       [ 0.13408281, -0.03755205,  0.01976525, ...,  0.02163627,\n",
       "        -0.01921137,  0.03690192],\n",
       "       [ 0.0438602 , -0.0130077 ,  0.06373122, ...,  0.03338452,\n",
       "         0.0225854 , -0.06305878]])"
      ]
     },
     "execution_count": 17,
     "metadata": {},
     "output_type": "execute_result"
    }
   ],
   "source": [
    "X"
   ]
  },
  {
   "cell_type": "code",
   "execution_count": 18,
   "id": "c481e916-3f2c-40be-930a-ceae88ab68dc",
   "metadata": {},
   "outputs": [
    {
     "data": {
      "text/plain": [
       "(375, 768)"
      ]
     },
     "execution_count": 18,
     "metadata": {},
     "output_type": "execute_result"
    }
   ],
   "source": [
    "X.shape"
   ]
  },
  {
   "cell_type": "markdown",
   "id": "72c040a7-3994-416c-95ba-756a4825263f",
   "metadata": {},
   "source": [
    "## Search\n",
    "cosine similarity"
   ]
  },
  {
   "cell_type": "code",
   "execution_count": 20,
   "id": "81de583f-d382-4115-ba5f-3964025ee0ba",
   "metadata": {},
   "outputs": [
    {
     "data": {
      "text/plain": [
       "0.9999999"
      ]
     },
     "execution_count": 20,
     "metadata": {},
     "output_type": "execute_result"
    }
   ],
   "source": [
    "v.dot(v)"
   ]
  },
  {
   "cell_type": "code",
   "execution_count": 15,
   "id": "5f66cdfe-ce1e-405c-987b-0f7dda77f9e6",
   "metadata": {},
   "outputs": [],
   "source": [
    "v = encoded_q\n",
    "scores = X.dot(v)"
   ]
  },
  {
   "cell_type": "code",
   "execution_count": 16,
   "id": "fd9f05be-330a-4045-b7fc-cccae4c25b51",
   "metadata": {},
   "outputs": [
    {
     "data": {
      "text/plain": [
       "0.6507"
      ]
     },
     "execution_count": 16,
     "metadata": {},
     "output_type": "execute_result"
    }
   ],
   "source": [
    "# Q3. Highest score\n",
    "round(scores.max(),4)"
   ]
  },
  {
   "cell_type": "code",
   "execution_count": 17,
   "id": "2d33d0b0-321f-41ea-acdf-f8d327448e84",
   "metadata": {},
   "outputs": [
    {
     "data": {
      "text/plain": [
       "(375,)"
      ]
     },
     "execution_count": 17,
     "metadata": {},
     "output_type": "execute_result"
    }
   ],
   "source": [
    "scores.shape"
   ]
  },
  {
   "cell_type": "code",
   "execution_count": 39,
   "id": "7d6e01d8-f0ac-4171-b4de-e9278f83a074",
   "metadata": {
    "scrolled": true
   },
   "outputs": [
    {
     "data": {
      "text/plain": [
       "[{'text': 'Yes, you can. You won’t be able to submit some of the homeworks, but you can still take part in the course.\\nIn order to get a certificate, you need to submit 2 out of 3 course projects and review 3 peers’ Projects by the deadline. It means that if you join the course at the end of November and manage to work on two projects, you will still be eligible for a certificate.',\n",
       "  'section': 'General course-related questions',\n",
       "  'question': 'The course has already started. Can I still join it?',\n",
       "  'course': 'machine-learning-zoomcamp',\n",
       "  'id': 'ee58a693'},\n",
       " {'text': 'Welcome to the course! Go to the course page (http://mlzoomcamp.com/), scroll down and start going through the course materials. Then read everything in the cohort folder for your cohort’s year.\\nClick on the links and start watching the videos. Also watch office hours from previous cohorts. Go to DTC youtube channel and click on Playlists and search for {course yyyy}. ML Zoomcamp was first launched in 2021.\\nOr you can just use this link: http://mlzoomcamp.com/#syllabus',\n",
       "  'section': 'General course-related questions',\n",
       "  'question': 'I just joined. What should I do next? How can I access course materials?',\n",
       "  'course': 'machine-learning-zoomcamp',\n",
       "  'id': '0a278fb2'},\n",
       " {'text': \"The process is automated now, so you should receive the email eventually. If you haven’t, check your promotions tab in Gmail as well as spam.\\nIf you unsubscribed from our newsletter, you won't get course related updates too.\\nBut don't worry, it’s not a problem. To make sure you don’t miss anything, join the #course-ml-zoomcamp channel in Slack and our telegram channel with announcements. This is enough to follow the course.\",\n",
       "  'section': 'General course-related questions',\n",
       "  'question': \"I filled the form, but haven't received a confirmation email. Is it normal?\",\n",
       "  'course': 'machine-learning-zoomcamp',\n",
       "  'id': '6ba259b1'},\n",
       " {'text': 'Technically, yes. Advisable? Not really. Reasons:\\nSome homework(s) asks for specific python library versions.\\nAnswers may not match in MCQ options if using different languages other than Python 3.10 (the recommended version for 2023 cohort)\\nAnd as for midterms/capstones, your peer-reviewers may not know these other languages. Do you want to be penalized for others not knowing these other languages?\\nYou can create a separate repo using course’s lessons but written in other languages for your own learnings, but not advisable for submissions.\\ntx[source]',\n",
       "  'section': 'Miscellaneous',\n",
       "  'question': 'Can I do the course in other languages, like R or Scala?',\n",
       "  'course': 'machine-learning-zoomcamp',\n",
       "  'id': '9f261648'},\n",
       " {'text': 'We won’t re-record the course videos. The focus of the course and the skills we want to teach remained the same, and the videos are still up-to-date.\\nIf you haven’t taken part in the previous iteration, you can start watching the videos. It’ll be useful for you and you will learn new things. However, we recommend using Python 3.10 now instead of Python 3.8.',\n",
       "  'section': 'General course-related questions',\n",
       "  'question': 'The course videos are from the previous iteration. Will you release new ones or we’ll use the videos from 2021?',\n",
       "  'course': 'machine-learning-zoomcamp',\n",
       "  'id': 'e7ba6b8a'}]"
      ]
     },
     "execution_count": 39,
     "metadata": {},
     "output_type": "execute_result"
    }
   ],
   "source": [
    "# Vector search\n",
    "# https://github.com/DataTalksClub/llm-zoomcamp/blob/main/cohorts/2024/03-vector-search/homework.md#vector-search\n",
    "# About search engine: https://github.com/alexeygrigorev/build-your-own-search-engine\n",
    "class VectorSearchEngine():\n",
    "    def __init__(self, documents, embeddings):\n",
    "        self.documents = documents\n",
    "        self.embeddings = embeddings\n",
    "\n",
    "    def search(self, v_query, num_results=10):\n",
    "        scores = self.embeddings.dot(v_query)\n",
    "        idx = np.argsort(-scores)[:num_results]\n",
    "        return [self.documents[i] for i in idx]\n",
    "\n",
    "search_engine = VectorSearchEngine(documents=ml_docs, embeddings=X)\n",
    "search_engine.search(v, num_results=5)"
   ]
  },
  {
   "cell_type": "markdown",
   "id": "9f9014f1-deea-498b-b6f6-d41c0e5f8f81",
   "metadata": {},
   "source": [
    "## Hit-rate for search engine"
   ]
  },
  {
   "cell_type": "code",
   "execution_count": 50,
   "id": "82beebdb-df42-4cd8-9efb-abec9801af09",
   "metadata": {},
   "outputs": [],
   "source": [
    "# loading the ground truth dataset\n",
    "base_url = 'https://github.com/DataTalksClub/llm-zoomcamp/blob/main'\n",
    "relative_url = '03-vector-search/eval/ground-truth-data.csv'\n",
    "ground_truth_url = f'{base_url}/{relative_url}?raw=1'\n",
    "\n",
    "df_ground_truth = pd.read_csv(ground_truth_url)\n",
    "df_ground_truth = df_ground_truth[df_ground_truth.course == 'machine-learning-zoomcamp']\n",
    "ground_truth = df_ground_truth.to_dict(orient='records')"
   ]
  },
  {
   "cell_type": "code",
   "execution_count": 51,
   "id": "b467f03e-1cc1-4362-8c6d-e8c3121cae96",
   "metadata": {},
   "outputs": [
    {
     "data": {
      "text/plain": [
       "[{'question': 'Where can I sign up for the course?',\n",
       "  'course': 'machine-learning-zoomcamp',\n",
       "  'document': '0227b872'},\n",
       " {'question': 'Can you provide a link to sign up?',\n",
       "  'course': 'machine-learning-zoomcamp',\n",
       "  'document': '0227b872'}]"
      ]
     },
     "execution_count": 51,
     "metadata": {},
     "output_type": "execute_result"
    }
   ],
   "source": [
    "ground_truth[:2]"
   ]
  },
  {
   "cell_type": "code",
   "execution_count": 52,
   "id": "5579c592-9e16-449e-a24c-fbf862986f10",
   "metadata": {},
   "outputs": [],
   "source": [
    "def hit_rate(relevance_total):\n",
    "    cnt = 0\n",
    "\n",
    "    for line in relevance_total:\n",
    "        if True in line:\n",
    "            cnt = cnt + 1\n",
    "\n",
    "    return cnt / len(relevance_total)"
   ]
  },
  {
   "cell_type": "code",
   "execution_count": 44,
   "id": "cc5946a7-022f-4fcb-b2a9-153d22d84cd1",
   "metadata": {},
   "outputs": [
    {
     "name": "stderr",
     "output_type": "stream",
     "text": [
      "100%|███████████████████████████████████████████████████████████████████████████████████████████| 1830/1830 [01:22<00:00, 22.11it/s]\n"
     ]
    }
   ],
   "source": [
    "relevance_total = []\n",
    "\n",
    "for q in tqdm(ground_truth):\n",
    "    doc_id = q['document']\n",
    "    results = search_engine.search(model.encode(q['question']), num_results=5)\n",
    "    relevance = [d['id'] == doc_id for d in results]\n",
    "    relevance_total.append(relevance)"
   ]
  },
  {
   "cell_type": "code",
   "execution_count": 47,
   "id": "7a682172-f36c-4260-822c-a34d842ed1d2",
   "metadata": {},
   "outputs": [
    {
     "data": {
      "text/plain": [
       "0.9398907103825137"
      ]
     },
     "execution_count": 47,
     "metadata": {},
     "output_type": "execute_result"
    }
   ],
   "source": [
    "# Q4. Hit-rate for search engine\n",
    "hit_rate(relevance_total)"
   ]
  },
  {
   "cell_type": "markdown",
   "id": "33b7c920-cac6-415c-871c-5a974c30cdd4",
   "metadata": {},
   "source": [
    "## Indexing with Elasticsearch"
   ]
  },
  {
   "cell_type": "code",
   "execution_count": null,
   "id": "5341b25c-0b77-4455-8a89-d590511947f1",
   "metadata": {},
   "outputs": [],
   "source": [
    "# Now let's index these documents with elasticsearch\n",
    "\n",
    "# Create the index with the same settings as in the module (but change the dimensions)\n",
    "# Index the embeddings (note: you've already computed them)\n",
    "# After indexing, let's perform the search of the same query from Q1.\n",
    "\n",
    "# What's the ID of the document with the highest score?"
   ]
  },
  {
   "cell_type": "code",
   "execution_count": 9,
   "id": "179aa9a8-8638-45f1-b004-1e5b1f251895",
   "metadata": {},
   "outputs": [],
   "source": [
    "# Initiate ElasticSearch connection\n",
    "from elasticsearch import Elasticsearch\n",
    "es_client = Elasticsearch('http://localhost:9200')"
   ]
  },
  {
   "cell_type": "code",
   "execution_count": 30,
   "id": "df4a7998-26fb-4c26-a420-bf74f23adaea",
   "metadata": {},
   "outputs": [],
   "source": [
    "index_settings = {\n",
    "    \"settings\": {\n",
    "        \"number_of_shards\": 1,\n",
    "        \"number_of_replicas\": 0\n",
    "    },\n",
    "    \"mappings\": {\n",
    "        \"properties\": {\n",
    "            \"text\": {\"type\": \"text\"},\n",
    "            \"section\": {\"type\": \"text\"},\n",
    "            \"question\": {\"type\": \"text\"},\n",
    "            \"course\": {\"type\": \"keyword\"},\n",
    "            \"query_text_vector\": {\"type\": \"dense_vector\", \"dims\": 768, \"index\": True, \"similarity\": \"cosine\"}\n",
    "        }\n",
    "    }\n",
    "}"
   ]
  },
  {
   "cell_type": "code",
   "execution_count": 31,
   "id": "840d9798-d0d7-4da5-b973-8cc164f2a2be",
   "metadata": {},
   "outputs": [
    {
     "data": {
      "text/plain": [
       "ObjectApiResponse({'acknowledged': True, 'shards_acknowledged': True, 'index': 'course-questions'})"
      ]
     },
     "execution_count": 31,
     "metadata": {},
     "output_type": "execute_result"
    }
   ],
   "source": [
    "# Create indices\n",
    "index_name = \"course-questions\"\n",
    "es_client.indices.delete(index=index_name, ignore_unavailable=True)\n",
    "es_client.indices.create(index=index_name, body=index_settings)"
   ]
  },
  {
   "cell_type": "code",
   "execution_count": 33,
   "id": "bdb0abfc-c292-46ec-bd03-09241598aa99",
   "metadata": {},
   "outputs": [],
   "source": [
    "# Create the dense vector using the already calculated vectors from pre-trained model\n",
    "operations = []\n",
    "for doc, vec in zip(ml_docs, embeddings):\n",
    "    try:\n",
    "        doc['query_text_vector'] = vec\n",
    "        operations.append(doc)\n",
    "    except Exception as e:\n",
    "        print(e)"
   ]
  },
  {
   "cell_type": "code",
   "execution_count": 34,
   "id": "e7afebf1-9964-4d5c-af01-f0366331196a",
   "metadata": {},
   "outputs": [
    {
     "name": "stderr",
     "output_type": "stream",
     "text": [
      "100%|██████████████████████████████████████████████████████████████████████████████████████████████| 375/375 [00:12<00:00, 31.07it/s]\n"
     ]
    }
   ],
   "source": [
    "# Index dataset\n",
    "for doc in tqdm(operations):\n",
    "    try:\n",
    "        es_client.index(index=index_name, document=doc)\n",
    "    except Exception as e:\n",
    "        print(e)"
   ]
  },
  {
   "cell_type": "code",
   "execution_count": 66,
   "id": "4b6d512e-701c-434b-97a4-6b8236240849",
   "metadata": {},
   "outputs": [],
   "source": [
    "def elastic_search(query, index='course-questions'):\n",
    "    index_name = index\n",
    "    vector_search_term = model.encode(query)\n",
    "    \n",
    "    query = {\n",
    "    \"field\": \"query_text_vector\",\n",
    "    \"query_vector\": vector_search_term,\n",
    "    \"k\": 5,\n",
    "    \"num_candidates\": 10000,\n",
    "        }\n",
    "\n",
    "    response = es_client.search(index=index_name, knn=query, source=[\"text\", \"section\", \"question\", \"course\", \"id\"])\n",
    "    \n",
    "    result_docs = []\n",
    "    \n",
    "    for hit in response['hits']['hits']:\n",
    "        result_docs.append(hit['_source'])\n",
    "    \n",
    "    return result_docs"
   ]
  },
  {
   "cell_type": "code",
   "execution_count": 67,
   "id": "70e9eb13-f787-4b3d-8a30-5b98e848dc97",
   "metadata": {},
   "outputs": [
    {
     "data": {
      "text/plain": [
       "'I just discovered the course. Can I still join it?'"
      ]
     },
     "execution_count": 67,
     "metadata": {},
     "output_type": "execute_result"
    }
   ],
   "source": [
    "user_question"
   ]
  },
  {
   "cell_type": "code",
   "execution_count": 68,
   "id": "a8297a44-6e3b-4516-b4e8-977b412885f5",
   "metadata": {},
   "outputs": [
    {
     "data": {
      "text/plain": [
       "{'question': 'The course has already started. Can I still join it?',\n",
       " 'course': 'machine-learning-zoomcamp',\n",
       " 'section': 'General course-related questions',\n",
       " 'text': 'Yes, you can. You won’t be able to submit some of the homeworks, but you can still take part in the course.\\nIn order to get a certificate, you need to submit 2 out of 3 course projects and review 3 peers’ Projects by the deadline. It means that if you join the course at the end of November and manage to work on two projects, you will still be eligible for a certificate.',\n",
       " 'id': 'ee58a693'}"
      ]
     },
     "execution_count": 68,
     "metadata": {},
     "output_type": "execute_result"
    }
   ],
   "source": [
    "elastic_search(user_question)[0]"
   ]
  },
  {
   "cell_type": "code",
   "execution_count": 69,
   "id": "6eef8485-5405-45e5-808d-cb69e510f230",
   "metadata": {},
   "outputs": [
    {
     "data": {
      "text/plain": [
       "'ee58a693'"
      ]
     },
     "execution_count": 69,
     "metadata": {},
     "output_type": "execute_result"
    }
   ],
   "source": [
    "# Q5. ID with the highest score\n",
    "elastic_search(user_question)[0]['id']"
   ]
  },
  {
   "cell_type": "markdown",
   "id": "6f45bd33-a052-4809-9cdd-336686a44545",
   "metadata": {},
   "source": [
    "## Hit-rate for Elasticsearch"
   ]
  },
  {
   "cell_type": "code",
   "execution_count": 71,
   "id": "69e5d40e-16a2-4440-b2c4-2abd6eb04e21",
   "metadata": {},
   "outputs": [
    {
     "name": "stderr",
     "output_type": "stream",
     "text": [
      "100%|████████████████████████████████████████████████████████████████████████████████████████████| 1830/1830 [01:24<00:00, 21.54it/s]\n"
     ]
    }
   ],
   "source": [
    "es_relevance_total = []\n",
    "\n",
    "for q in tqdm(ground_truth):\n",
    "    doc_id = q['document']\n",
    "    results = elastic_search(query=q['question'], index=index_name)\n",
    "    relevance = [d['id'] == doc_id for d in results]\n",
    "    es_relevance_total.append(relevance)"
   ]
  },
  {
   "cell_type": "code",
   "execution_count": 73,
   "id": "887d33c7-8e58-4ff1-84cf-40e09726290d",
   "metadata": {},
   "outputs": [
    {
     "data": {
      "text/plain": [
       "0.9398907103825137"
      ]
     },
     "execution_count": 73,
     "metadata": {},
     "output_type": "execute_result"
    }
   ],
   "source": [
    "# Q6. Hit-rate for ElasticSearch\n",
    "hit_rate(es_relevance_total)"
   ]
  }
 ],
 "metadata": {
  "kernelspec": {
   "display_name": "Python 3 (ipykernel)",
   "language": "python",
   "name": "python3"
  },
  "language_info": {
   "codemirror_mode": {
    "name": "ipython",
    "version": 3
   },
   "file_extension": ".py",
   "mimetype": "text/x-python",
   "name": "python",
   "nbconvert_exporter": "python",
   "pygments_lexer": "ipython3",
   "version": "3.10.13"
  }
 },
 "nbformat": 4,
 "nbformat_minor": 5
}
